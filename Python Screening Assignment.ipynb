{
 "cells": [
  {
   "cell_type": "markdown",
   "id": "5d7dcc0c",
   "metadata": {},
   "source": [
    "# 1. Create a function in python to read the text file and replace specific content of the file.\n",
    "\n",
    "File name: example.txt"
   ]
  },
  {
   "cell_type": "markdown",
   "id": "e7c176f0",
   "metadata": {},
   "source": [
    "Origin file content: This is a placement assignment"
   ]
  },
  {
   "cell_type": "markdown",
   "id": "078f7c0a",
   "metadata": {},
   "source": [
    "Replace string: Placement should be replaced by screening."
   ]
  },
  {
   "cell_type": "markdown",
   "id": "633b3128",
   "metadata": {},
   "source": [
    "Replaced file content: This is a screening assignment"
   ]
  },
  {
   "cell_type": "code",
   "execution_count": 1,
   "id": "782d43c8",
   "metadata": {},
   "outputs": [],
   "source": [
    "import os \n",
    "\n",
    "#Creating the File with name example.txt at the desired location\n",
    "file = open(\"/Users/prakharsrivastava/Downloads/Codes_Theory/example.txt\",\"x\")"
   ]
  },
  {
   "cell_type": "code",
   "execution_count": 3,
   "id": "917d00dd",
   "metadata": {},
   "outputs": [
    {
     "name": "stdout",
     "output_type": "stream",
     "text": [
      "Assignment_1.docx\r\n",
      "Board_Infinity.pdf\r\n",
      "Fetching_tags_shutterstock.ipynb\r\n",
      "Functions_implemention_20_Questions.ipynb\r\n",
      "Iterators.ipynb\r\n",
      "Prakhar_Resume__8564089310 (1).pdf\r\n",
      "Python Screening Assignment.ipynb\r\n",
      "\u001b[34ma\u001b[m\u001b[m\r\n",
      "\u001b[34mb\u001b[m\u001b[m\r\n",
      "example.txt\r\n",
      "image.jpeg\r\n",
      "merged.pdf\r\n",
      "sample-mp4-file.mp4\r\n"
     ]
    }
   ],
   "source": [
    "#checking if the file creation is done at the directory\n",
    "!ls"
   ]
  },
  {
   "cell_type": "code",
   "execution_count": 4,
   "id": "dba6cf0f",
   "metadata": {},
   "outputs": [
    {
     "name": "stdout",
     "output_type": "stream",
     "text": [
      "File created with the mentioned content\n"
     ]
    }
   ],
   "source": [
    "# We are going to write the desired content in this file\n",
    "\n",
    "file = open(\"example.txt\",\"w+\")\n",
    "file.write(\"This is a placement assignment\")\n",
    "file.close()\n",
    "\n",
    "print(\"File created with the mentioned content\")"
   ]
  },
  {
   "cell_type": "code",
   "execution_count": 5,
   "id": "c5a7a190",
   "metadata": {},
   "outputs": [],
   "source": [
    "# Reading the original file content and replacing the string in a variable: data\n",
    "file = open(\"/Users/prakharsrivastava/Downloads/Codes_Theory/example.txt\",\"r\")\n",
    "data = file.read()\n",
    "data = data.replace(\"placement\",\"screening\")"
   ]
  },
  {
   "cell_type": "code",
   "execution_count": 6,
   "id": "6a3556a2",
   "metadata": {},
   "outputs": [
    {
     "name": "stdout",
     "output_type": "stream",
     "text": [
      "Replaced file content with mentioned string\n"
     ]
    }
   ],
   "source": [
    "# Re writing the new content of data variable in the original file named example.txt\n",
    "file = open(\"example.txt\",\"w\")\n",
    "file.write(data)\n",
    "file.close()\n",
    "    \n",
    "print(\"Replaced file content with mentioned string\")"
   ]
  },
  {
   "cell_type": "markdown",
   "id": "e27c113e",
   "metadata": {},
   "source": [
    "# 2. Demonstrate use of abstract class, multiple inheritance and decorator in python using examples"
   ]
  },
  {
   "cell_type": "markdown",
   "id": "e6d4f853",
   "metadata": {},
   "source": [
    "## Abstract Classes in Python"
   ]
  },
  {
   "cell_type": "markdown",
   "id": "8dcb01e7",
   "metadata": {},
   "source": [
    "A class is called an Abstract class if it contains one or more abstract methods. An abstract method is a method that is declared, but contains no implementation. "
   ]
  },
  {
   "cell_type": "markdown",
   "id": "7b509c49",
   "metadata": {},
   "source": [
    "## Why abstract class ?\n",
    "In Python, abstract base classes provide a blueprint for concrete classes. They don't contain implementation. Instead, they provide an interface and make sure that derived concrete classes are properly implemented."
   ]
  },
  {
   "cell_type": "code",
   "execution_count": 3,
   "id": "80bd684f",
   "metadata": {},
   "outputs": [
    {
     "name": "stdout",
     "output_type": "stream",
     "text": [
      "I can walk and run\n",
      "I can crawl\n",
      "I can bark\n",
      "I can roar\n"
     ]
    }
   ],
   "source": [
    "# Python program showing abstract base class work\n",
    "\n",
    "from abc import ABC, abstractmethod\n",
    "class Animal(ABC):\n",
    "\n",
    "    def move(self):\n",
    "        pass\n",
    "\n",
    "class Human(Animal):\n",
    "\n",
    "    def move(self):\n",
    "        print(\"I can walk and run\")\n",
    "\n",
    "class Snake(Animal):\n",
    "\n",
    "    def move(self):\n",
    "        print(\"I can crawl\")\n",
    "\n",
    "class Dog(Animal):\n",
    "\n",
    "    def move(self):\n",
    "        print(\"I can bark\")\n",
    "\n",
    "class Lion(Animal):\n",
    "\n",
    "    def move(self):\n",
    "        print(\"I can roar\")\n",
    "\n",
    "R = Human()\n",
    "R.move()\n",
    "\n",
    "K = Snake()\n",
    "K.move()\n",
    "\n",
    "R = Dog()\n",
    "R.move()\n",
    "\n",
    "K = Lion()\n",
    "K.move()"
   ]
  },
  {
   "cell_type": "markdown",
   "id": "28cdb81a",
   "metadata": {},
   "source": [
    "## Multiple Inheritence"
   ]
  },
  {
   "cell_type": "markdown",
   "id": "29f6c845",
   "metadata": {},
   "source": [
    "When a class is derived from more than one base class it is called multiple Inheritance. The derived class inherits all the features of the base case."
   ]
  },
  {
   "cell_type": "code",
   "execution_count": 5,
   "id": "c1bb70b3",
   "metadata": {},
   "outputs": [
    {
     "name": "stdout",
     "output_type": "stream",
     "text": [
      "Father Enjoys Driving\n",
      "Mother Enjoys Cooking\n",
      "Child Loves Playing\n"
     ]
    }
   ],
   "source": [
    "# Multiple Inheritance using two classes:\n",
    "\n",
    "class Father():\n",
    "    def Driving(self):\n",
    "        print(\"Father Enjoys Driving\")\n",
    "class Mother():\n",
    "    def Cooking(self):\n",
    "        print(\"Mother Enjoys Cooking\")\n",
    "class Child(Father, Mother):\n",
    "    def Playing(self):\n",
    "        print(\"Child Loves Playing\")\n",
    "c = Child()\n",
    "c.Driving()\n",
    "c.Cooking()\n",
    "c.Playing()"
   ]
  },
  {
   "cell_type": "markdown",
   "id": "395d8a32",
   "metadata": {},
   "source": [
    "## Decorators\n",
    "A decorator is a design pattern in Python that allows a user to add new functionality to an existing object without modifying its structure. Decorators are usually called before the definition of a function you want to decorate."
   ]
  },
  {
   "cell_type": "code",
   "execution_count": 6,
   "id": "bc5f3fe4",
   "metadata": {},
   "outputs": [
    {
     "name": "stdout",
     "output_type": "stream",
     "text": [
      "This is printed before the function is called\n",
      "Hello! The function is executing\n",
      "This is printed after the function is called\n"
     ]
    }
   ],
   "source": [
    "def decorator(func):\n",
    "    def wrapper():\n",
    "        print(\"This is printed before the function is called\")\n",
    "        func()\n",
    "        print(\"This is printed after the function is called\")\n",
    "  \n",
    "    return wrapper\n",
    "\n",
    "def say_hello():\n",
    "    print(\"Hello! The function is executing\")\n",
    "\n",
    "\n",
    "say_hello = decorator(say_hello)\n",
    "\n",
    "say_hello()"
   ]
  },
  {
   "cell_type": "markdown",
   "id": "51eef0f6",
   "metadata": {},
   "source": [
    "### The End!!\n",
    "### Thank You"
   ]
  }
 ],
 "metadata": {
  "kernelspec": {
   "display_name": "Python 3 (ipykernel)",
   "language": "python",
   "name": "python3"
  },
  "language_info": {
   "codemirror_mode": {
    "name": "ipython",
    "version": 3
   },
   "file_extension": ".py",
   "mimetype": "text/x-python",
   "name": "python",
   "nbconvert_exporter": "python",
   "pygments_lexer": "ipython3",
   "version": "3.9.7"
  }
 },
 "nbformat": 4,
 "nbformat_minor": 5
}
